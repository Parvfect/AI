{
 "cells": [
  {
   "cell_type": "code",
   "execution_count": 2,
   "id": "7119fd83",
   "metadata": {},
   "outputs": [],
   "source": [
    "import pandas as pd\n",
    "import numpy as np\n",
    "import tensorflow as tf\n",
    "from sklearn.model_selection import train_test_split\n",
    "import matplotlib.pyplot as plt\n",
    "import seaborn as sns"
   ]
  },
  {
   "cell_type": "code",
   "execution_count": 3,
   "id": "daae3dc8",
   "metadata": {},
   "outputs": [
    {
     "name": "stdout",
     "output_type": "stream",
     "text": [
      "        # mean_0_a     mean_1_a     mean_2_a     mean_3_a     mean_4_a  \\\n",
      "count  2132.000000  2132.000000  2132.000000  2132.000000  2132.000000   \n",
      "mean     15.256914    27.012462  -104.975629    13.605898    24.150483   \n",
      "std      15.284621     9.265141   206.271960    16.874676    14.187340   \n",
      "min     -61.300000  -114.000000  -970.000000  -137.000000  -217.000000   \n",
      "25%       6.577500    26.075000  -195.000000     4.857500    23.600000   \n",
      "50%      14.100000    30.000000    14.950000    15.400000    25.200000   \n",
      "75%      27.700000    31.400000    29.600000    26.500000    26.800000   \n",
      "max     304.000000    42.300000   661.000000   206.000000   213.000000   \n",
      "\n",
      "        mean_d_0_a   mean_d_1_a   mean_d_2_a   mean_d_3_a   mean_d_4_a  ...  \\\n",
      "count  2132.000000  2132.000000  2132.000000  2132.000000  2132.000000  ...   \n",
      "mean      0.025378     0.052282     0.301655     0.036793     0.083567  ...   \n",
      "std      17.981796     8.509174    68.098894    17.010031    18.935378  ...   \n",
      "min    -218.000000  -255.000000 -1360.000000  -203.000000  -553.000000  ...   \n",
      "25%      -3.105000    -1.340000    -4.002500    -2.905000    -2.622500  ...   \n",
      "50%      -0.044600     0.132000     0.957500    -0.099750     0.146500  ...   \n",
      "75%       2.920000     1.540000     6.735000     2.535000     2.870000  ...   \n",
      "max     402.000000   257.000000  1150.000000   349.000000   444.000000  ...   \n",
      "\n",
      "         fft_740_b    fft_741_b    fft_742_b    fft_743_b    fft_744_b  \\\n",
      "count  2132.000000  2132.000000  2132.000000  2132.000000  2132.000000   \n",
      "mean    -22.938971   104.946111   -51.973647   -51.973647   104.946111   \n",
      "std     298.034311   212.532721   112.160233   112.160233   212.532721   \n",
      "min   -1180.000000  -921.000000  -504.000000  -504.000000  -921.000000   \n",
      "25%    -106.500000    -8.365000   -92.900000   -92.900000    -8.365000   \n",
      "50%      83.850000    12.150000   -21.800000   -21.800000    12.150000   \n",
      "75%     154.000000   177.000000    12.025000    12.025000   177.000000   \n",
      "max    1070.000000   843.000000  1490.000000  1490.000000   843.000000   \n",
      "\n",
      "         fft_745_b    fft_746_b    fft_747_b    fft_748_b    fft_749_b  \n",
      "count  2132.000000  2132.000000  2132.000000  2132.000000  2132.000000  \n",
      "mean     -6.934144    95.104886   -49.061255   -49.061255    95.104886  \n",
      "std     281.040552   203.194976   106.486317   106.486317   203.194976  \n",
      "min   -1160.000000 -1010.000000  -521.000000  -521.000000 -1010.000000  \n",
      "25%    -102.500000    -8.837500   -87.150000   -87.150000    -8.837500  \n",
      "50%      89.700000    13.400000   -24.100000   -24.100000    13.400000  \n",
      "75%     153.000000   149.250000    10.925000    10.925000   149.250000  \n",
      "max    1180.000000   888.000000  1670.000000  1670.000000   888.000000  \n",
      "\n",
      "[8 rows x 2548 columns]\n"
     ]
    }
   ],
   "source": [
    "data_loc = \"emotions.csv\"\n",
    "data = pd.read_csv(data_loc)\n",
    "print(data.describe())"
   ]
  },
  {
   "cell_type": "code",
   "execution_count": 4,
   "id": "baa2d0a5",
   "metadata": {},
   "outputs": [
    {
     "name": "stdout",
     "output_type": "stream",
     "text": [
      "Index(['# mean_0_a', 'mean_1_a', 'mean_2_a', 'mean_3_a', 'mean_4_a',\n",
      "       'mean_d_0_a', 'mean_d_1_a', 'mean_d_2_a', 'mean_d_3_a', 'mean_d_4_a',\n",
      "       ...\n",
      "       'fft_741_b', 'fft_742_b', 'fft_743_b', 'fft_744_b', 'fft_745_b',\n",
      "       'fft_746_b', 'fft_747_b', 'fft_748_b', 'fft_749_b', 'label'],\n",
      "      dtype='object', length=2549)\n"
     ]
    }
   ],
   "source": [
    "print(data.columns)\n",
    "label_mapping={'NEGATIVE':0,'NEUTRAL':1,'POSITIVE':2}"
   ]
  },
  {
   "cell_type": "code",
   "execution_count": 5,
   "id": "88536c42",
   "metadata": {},
   "outputs": [],
   "source": [
    "def preprocess_inputs(df):\n",
    "    df=df.copy()\n",
    "    \n",
    "    df['label']=df['label'].replace(label_mapping)\n",
    "    y=df['label'].copy()\n",
    "    X=df.drop('label',axis=1).copy()\n",
    "    \n",
    "    X_train,X_test,y_train,y_test=train_test_split(X,y,test_size=0.3,random_state=123)\n",
    "    \n",
    "    return X_train,X_test,y_train,y_test"
   ]
  },
  {
   "cell_type": "code",
   "execution_count": 6,
   "id": "18e54b44",
   "metadata": {},
   "outputs": [],
   "source": [
    "X_train,X_test,y_train,y_test = preprocess_inputs(data)"
   ]
  },
  {
   "cell_type": "code",
   "execution_count": 7,
   "id": "1c962b00",
   "metadata": {},
   "outputs": [
    {
     "name": "stdout",
     "output_type": "stream",
     "text": [
      "Model: \"model\"\n",
      "_________________________________________________________________\n",
      "Layer (type)                 Output Shape              Param #   \n",
      "=================================================================\n",
      "input_1 (InputLayer)         [(None, 2548)]            0         \n",
      "_________________________________________________________________\n",
      "dense (Dense)                (None, 64)                163136    \n",
      "_________________________________________________________________\n",
      "dense_1 (Dense)              (None, 64)                4160      \n",
      "_________________________________________________________________\n",
      "dense_2 (Dense)              (None, 3)                 195       \n",
      "=================================================================\n",
      "Total params: 167,491\n",
      "Trainable params: 167,491\n",
      "Non-trainable params: 0\n",
      "_________________________________________________________________\n",
      "None\n"
     ]
    }
   ],
   "source": [
    "\n",
    "inputs = tf.keras.Input(shape = (X_train.shape[1]))\n",
    "hidden_layer_1 = tf.keras.layers.Dense(64, activation = 'relu')(inputs)\n",
    "hidden_layer_2 = tf.keras.layers.Dense(64, activation = 'relu')(hidden_layer_1)\n",
    "output = tf.keras.layers.Dense(3, activation = 'softmax')(hidden_layer_2)\n",
    "\n",
    "model = tf.keras.Model(inputs = inputs, outputs = output)\n",
    "print(model.summary())"
   ]
  },
  {
   "cell_type": "code",
   "execution_count": 8,
   "id": "48741848",
   "metadata": {},
   "outputs": [
    {
     "name": "stdout",
     "output_type": "stream",
     "text": [
      "Epoch 1/10\n",
      "38/38 [==============================] - 1s 8ms/step - loss: 12124685336576.0000 - accuracy: 0.5574 - val_loss: 1705151823872.0000 - val_accuracy: 0.5953\n",
      "Epoch 2/10\n",
      "38/38 [==============================] - 0s 5ms/step - loss: 21807597879296.0000 - accuracy: 0.4895 - val_loss: 9903520350208.0000 - val_accuracy: 0.5853\n",
      "Epoch 3/10\n",
      "38/38 [==============================] - 0s 5ms/step - loss: 36787334414336.0000 - accuracy: 0.6178 - val_loss: 51713419509760.0000 - val_accuracy: 0.6589\n",
      "Epoch 4/10\n",
      "38/38 [==============================] - 0s 5ms/step - loss: 26046353113088.0000 - accuracy: 0.6530 - val_loss: 4284101427200.0000 - val_accuracy: 0.4448\n",
      "Epoch 5/10\n",
      "38/38 [==============================] - 0s 5ms/step - loss: 13887664553984.0000 - accuracy: 0.6387 - val_loss: 2639178235904.0000 - val_accuracy: 0.4515\n",
      "Epoch 6/10\n",
      "38/38 [==============================] - 0s 5ms/step - loss: 8516544757760.0000 - accuracy: 0.6655 - val_loss: 423575617536.0000 - val_accuracy: 0.6990\n",
      "Epoch 7/10\n",
      "38/38 [==============================] - 0s 5ms/step - loss: 12432598630400.0000 - accuracy: 0.6270 - val_loss: 342902702080.0000 - val_accuracy: 0.6923\n",
      "Epoch 8/10\n",
      "38/38 [==============================] - 0s 5ms/step - loss: 1965464354816.0000 - accuracy: 0.6287 - val_loss: 567920361472.0000 - val_accuracy: 0.6756\n",
      "Epoch 9/10\n",
      "38/38 [==============================] - 0s 5ms/step - loss: 6659075735552.0000 - accuracy: 0.6329 - val_loss: 2388554153984.0000 - val_accuracy: 0.5853\n",
      "Epoch 10/10\n",
      "38/38 [==============================] - 0s 5ms/step - loss: 11937402322944.0000 - accuracy: 0.5222 - val_loss: 626129567744.0000 - val_accuracy: 0.5017\n"
     ]
    }
   ],
   "source": [
    "from sklearn.metrics import confusion_matrix, classification_report\n",
    "model.compile(\n",
    "    optimizer = 'adam',\n",
    "    loss = 'sparse_categorical_crossentropy',\n",
    "    metrics = ['accuracy']\n",
    " )\n",
    "\n",
    "\n",
    "history = model.fit(\n",
    "    X_train, \n",
    "    y_train,\n",
    "    batch_size = 32, \n",
    "    validation_split = 0.2,\n",
    "    epochs = 10,\n",
    "    callbacks = [\n",
    "        tf.keras.callbacks.EarlyStopping(\n",
    "            monitor = 'val_loss',\n",
    "            patience = 5, \n",
    "            restore_best_weights = True\n",
    "        )\n",
    "    ]\n",
    ")\n"
   ]
  },
  {
   "cell_type": "code",
   "execution_count": 9,
   "id": "4f255d2b",
   "metadata": {},
   "outputs": [
    {
     "name": "stdout",
     "output_type": "stream",
     "text": [
      "Model Accuracy is  0.4468750059604645\n"
     ]
    }
   ],
   "source": [
    "model_acc = model.evaluate(X_test, y_test, verbose = 0)[1]\n",
    "print(\"Model Accuracy is \", model_acc)"
   ]
  },
  {
   "cell_type": "markdown",
   "id": "cd07723c",
   "metadata": {},
   "source": [
    "Using a Recurrent Neural Network Instead\n",
    "`"
   ]
  },
  {
   "cell_type": "code",
   "execution_count": 10,
   "id": "9424f2b7",
   "metadata": {},
   "outputs": [
    {
     "name": "stdout",
     "output_type": "stream",
     "text": [
      "Model: \"model_1\"\n",
      "_________________________________________________________________\n",
      "Layer (type)                 Output Shape              Param #   \n",
      "=================================================================\n",
      "input_2 (InputLayer)         [(None, 2548)]            0         \n",
      "_________________________________________________________________\n",
      "tf.expand_dims (TFOpLambda)  (None, 2548, 1)           0         \n",
      "_________________________________________________________________\n",
      "gru (GRU)                    (None, 2548, 256)         198912    \n",
      "_________________________________________________________________\n",
      "flatten (Flatten)            (None, 652288)            0         \n",
      "_________________________________________________________________\n",
      "dense_3 (Dense)              (None, 3)                 1956867   \n",
      "=================================================================\n",
      "Total params: 2,155,779\n",
      "Trainable params: 2,155,779\n",
      "Non-trainable params: 0\n",
      "_________________________________________________________________\n",
      "None\n"
     ]
    }
   ],
   "source": [
    "inputs = tf.keras.Input(shape = (X_train.shape[1]))\n",
    "\n",
    "expand_dims = tf.expand_dims(inputs, axis = 2)\n",
    "gru = tf.keras.layers.GRU(256, return_sequences = True)(expand_dims)\n",
    "flatten = tf.keras.layers.Flatten()(gru)\n",
    "\n",
    "output = tf.keras.layers.Dense(3, activation = 'softmax')(flatten)\n",
    "\n",
    "model = tf.keras.Model(inputs = inputs, outputs = output)\n",
    "print(model.summary())"
   ]
  },
  {
   "cell_type": "code",
   "execution_count": null,
   "id": "d948bcb3",
   "metadata": {},
   "outputs": [],
   "source": [
    "from sklearn.metrics import confusion_matrix,classification_report\n",
    "model.compile(\n",
    "    optimizer='adam',\n",
    "    loss='sparse_categorical_crossentropy',\n",
    "    metrics=['accuracy']\n",
    ")\n",
    "history=model.fit(\n",
    "    X_train,\n",
    "    y_train,\n",
    "    validation_split=0.2,\n",
    "    batch_size=32,\n",
    "    epochs=50,\n",
    "    callbacks=[\n",
    "        tf.keras.callbacks.EarlyStopping(\n",
    "            monitor='val_loss',\n",
    "            patience=5,\n",
    "            restore_best_weights=True\n",
    "        )\n",
    "    ]\n",
    ")"
   ]
  }
 ],
 "metadata": {
  "kernelspec": {
   "display_name": "Python 3",
   "language": "python",
   "name": "python3"
  },
  "language_info": {
   "codemirror_mode": {
    "name": "ipython",
    "version": 3
   },
   "file_extension": ".py",
   "mimetype": "text/x-python",
   "name": "python",
   "nbconvert_exporter": "python",
   "pygments_lexer": "ipython3",
   "version": "3.8.5"
  }
 },
 "nbformat": 4,
 "nbformat_minor": 5
}
